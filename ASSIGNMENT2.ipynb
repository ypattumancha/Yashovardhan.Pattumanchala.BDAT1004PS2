{
 "cells": [
  {
   "cell_type": "markdown",
   "id": "676066ae",
   "metadata": {},
   "source": [
    "QUESTION 1\n",
    "\n",
    "Consider the following Python module:\n",
    "a = 0\n",
    "def b():\n",
    " global a\n",
    " a = c(a)\n",
    "def c(a):\n",
    " return a + 2\n",
    "After importing the module into the interpreter, you execute:\n",
    ">>> b()\n",
    ">>> b()\n",
    ">>> b()\n",
    ">>> a\n",
    "?\n",
    "What value is displayed when the last expression (a) is evaluated? Explain your\n",
    "answer by indicating what happens in every executed statement"
   ]
  },
  {
   "cell_type": "markdown",
   "id": "c723bbb6",
   "metadata": {},
   "source": [
    "b(): This statement calls the function b(). Inside b(), the variable a is declared as global, indicating that it refers to the global variable a defined outside the function. Then, the function c(a) is called with the current value of a (which is initially 0). The function c() adds 2 to the value of a and returns the result. The returned value (2) is assigned back to the global variable a. So after this statement, a is updated to 2.\n",
    "\n",
    "b(): This statement again calls the function b(). Now, the value of the global variable a is 2. Inside b(), the same process occurs. The function c() is called with the current value of a (2), adds 2 to it, and returns the result (4). This value is assigned back to the global variable a. So after this statement, a is updated to 4.\n",
    "\n",
    "b(): This statement once again calls the function b(). Now, the value of the global variable a is 4. Inside b(), the function c() is called with the current value of a (4), adds 2 to it, and returns the result (6). This value is assigned back to the global variable a. So after this statement, a is updated to 6.\n",
    "\n",
    "a: This expression evaluates the current value of the global variable a, which is 6. Therefore, when this statement is executed, the value displayed is 6.\n",
    "\n",
    "In summary, after executing the given statements, the value of a is updated with each call to the function b(), incrementing by 2 on each call. Hence, the final value of a is 6."
   ]
  },
  {
   "cell_type": "markdown",
   "id": "f62b2204",
   "metadata": {},
   "source": [
    "Question 2\n",
    "Function fileLength(), given to you, takes the name of a file as input and returns\n",
    "the length of the file:"
   ]
  },
  {
   "cell_type": "code",
   "execution_count": 3,
   "id": "3df48d12",
   "metadata": {},
   "outputs": [
    {
     "data": {
      "text/plain": [
       "510"
      ]
     },
     "execution_count": 3,
     "metadata": {},
     "output_type": "execute_result"
    }
   ],
   "source": [
    "def fileLength(filename):\n",
    "    try:\n",
    "        infile = open(filename)\n",
    "        content = infile.read()\n",
    "        infile.close()\n",
    "        return len(content)\n",
    "    except FileNotFoundError:\n",
    "        print(f\"File {filename} not found.\") \n",
    "fileLength('Filelength.txt')"
   ]
  },
  {
   "cell_type": "markdown",
   "id": "f527eeab",
   "metadata": {},
   "source": [
    "QUESTION 3"
   ]
  },
  {
   "cell_type": "code",
   "execution_count": 24,
   "id": "f987953d",
   "metadata": {},
   "outputs": [
    {
     "name": "stdout",
     "output_type": "stream",
     "text": [
      "['doll', 'firetruck', 'kitten']\n",
      "I am a Kangaroo located at coordinates (0,0)\n",
      "['doll', 'firetruck', 'kitten']\n",
      "I am a Kangaroo located at coordinates (3,0)\n"
     ]
    }
   ],
   "source": [
    "class Marsupial:\n",
    "    def __init__(self):\n",
    "        self.pouch = []\n",
    "    \n",
    "    def put_in_pouch(self, item):\n",
    "        self.pouch.append(item)\n",
    "    \n",
    "    def pouch_contents(self):\n",
    "        return self.pouch\n",
    "\n",
    "\n",
    "class Kangaroo(Marsupial):\n",
    "    def __init__(self, x=0, y=0):\n",
    "        super().__init__()\n",
    "        self.x = x\n",
    "        self.y = y\n",
    "    \n",
    "    def jump(self, dx, dy):\n",
    "        self.x += dx\n",
    "        self.y += dy\n",
    "    \n",
    "    def __str__(self):\n",
    "        return f\"I am a Kangaroo located at coordinates ({self.x},{self.y})\"\n",
    "\n",
    "\n",
    "# Example usage:\n",
    "m = Marsupial()\n",
    "m.put_in_pouch('doll')\n",
    "m.put_in_pouch('firetruck')\n",
    "m.put_in_pouch('kitten')\n",
    "print(m.pouch_contents())\n",
    "\n",
    "k = Kangaroo(0, 0)\n",
    "print(k)\n",
    "k.put_in_pouch('doll')\n",
    "k.put_in_pouch('firetruck')\n",
    "k.put_in_pouch('kitten')\n",
    "print(k.pouch_contents())\n",
    "\n",
    "k.jump(1, 0)\n",
    "k.jump(1, 0)\n",
    "k.jump(1, 0)\n",
    "print(k)"
   ]
  },
  {
   "cell_type": "markdown",
   "id": "8b78e5b0",
   "metadata": {},
   "source": [
    "Question 4\n",
    "Write function collatz() that takes a positive integer x as input and prints the\n",
    "Collatz sequence starting at x. A Collatz sequence is obtained by repeatedly applying\n",
    "this rule to the previous number x in the sequence:\n",
    "x = {\n",
    "𝑥/2 𝑖𝑓 𝑥 𝑖𝑠 𝑒𝑣𝑒𝑛\n",
    "3𝑥 + 1 𝑖𝑓 𝑥 𝑖𝑠 𝑜𝑑𝑑\n",
    "Your function should stop when the sequence gets to number 1. Your\n",
    "implementation must be recursive, without any loops.\n",
    ">>> collatz(1)\n",
    "1\n",
    ">>> collatz(10)\n",
    "10\n",
    "5\n",
    "16\n",
    "8\n",
    "4\n",
    "2\n",
    "1"
   ]
  },
  {
   "cell_type": "code",
   "execution_count": 28,
   "id": "d439ad9d",
   "metadata": {},
   "outputs": [
    {
     "name": "stdout",
     "output_type": "stream",
     "text": [
      "10\n",
      "5\n",
      "16\n",
      "8\n",
      "4\n",
      "2\n",
      "1\n"
     ]
    }
   ],
   "source": [
    "\n",
    "def collatz(x):\n",
    "    print(x)\n",
    "    \n",
    "    if x == 1:\n",
    "        return\n",
    "    \n",
    "    if x % 2 == 0:\n",
    "        collatz(x // 2)\n",
    "    else:\n",
    "        collatz(3 * x + 1)\n",
    "collatz(10)"
   ]
  },
  {
   "cell_type": "markdown",
   "id": "1ed92857",
   "metadata": {},
   "source": [
    "QUESTION 5 . Write a recursive method binary() that takes a non-negative\n",
    "integer n and prints the binary representation of integer n.\n",
    ">>> binary(0)\n",
    "0\n",
    ">>> binary(1)\n",
    "1\n",
    ">>> binary(3)\n",
    "11\n",
    ">>> binary(9)\n",
    "1001"
   ]
  },
  {
   "cell_type": "code",
   "execution_count": 35,
   "id": "2faf801b",
   "metadata": {},
   "outputs": [
    {
     "name": "stdout",
     "output_type": "stream",
     "text": [
      "1010"
     ]
    }
   ],
   "source": [
    "def binary(n):\n",
    "    if n > 1:\n",
    "        binary(n // 2)\n",
    "    print(n % 2, end='')\n",
    "binary(10)\n"
   ]
  },
  {
   "cell_type": "markdown",
   "id": "3b88f7c3",
   "metadata": {},
   "source": [
    "Question 6 .Implement a class named HeadingParser that can be used to parse an HTML\n",
    "document, and retrieve and print all the headings in the document. You should\n",
    "implement your class as a subclass of HTMLParser, defined in Standard Library\n",
    "module html.parser. When fed a string containing HTML code, your class should\n",
    "print the headings, one per line and in the order in which they appear in the\n",
    "document. Each heading should be indented as follows: an h1 heading should have \n",
    "indentation 0, and h2 heading should have indentation 1, etc. Test your\n",
    "implementation using w3c.html.\n",
    ">>> infile = open('w3c.html')\n",
    ">>> content = infile.read()\n",
    ">>> infile.close()\n",
    ">>> hp = HeadingParser()\n",
    ">>> hp.feed(content)\n",
    "W3C Mission\n",
    "Principles"
   ]
  },
  {
   "cell_type": "code",
   "execution_count": 15,
   "id": "385cd7fb",
   "metadata": {
    "scrolled": true
   },
   "outputs": [
    {
     "name": "stdout",
     "output_type": "stream",
     "text": [
      "W3C Mission\n",
      " Principles\n"
     ]
    }
   ],
   "source": [
    "from html.parser import HTMLParser\n",
    "\n",
    "class HeadingParser(HTMLParser):\n",
    "    def __init__(self):\n",
    "        super().__init__()\n",
    "        self.indentation = 0\n",
    "        self.inside_heading = False\n",
    "\n",
    "    def handle_starttag(self, tag, attrs):\n",
    "        if tag.startswith(\"h\"):\n",
    "            try:\n",
    "                self.indentation = int(tag[1:]) - 1\n",
    "                self.inside_heading = True\n",
    "            except ValueError:\n",
    "                pass\n",
    "\n",
    "    def handle_endtag(self, tag):\n",
    "        if tag.startswith(\"h\"):\n",
    "            self.indentation = 0\n",
    "            self.inside_heading = False\n",
    "\n",
    "    def handle_data(self, data):\n",
    "        if self.inside_heading:\n",
    "            indentation_str = \" \" * self.indentation\n",
    "            print(indentation_str + data.strip())\n",
    "\n",
    "# Test the HeadingParser\n",
    "infile = open('w3c.html')\n",
    "content = infile.read()\n",
    "infile.close()\n",
    "\n",
    "hp = HeadingParser()\n",
    "hp.feed(content)"
   ]
  },
  {
   "cell_type": "markdown",
   "id": "41fe9fb5",
   "metadata": {},
   "source": [
    "Question 7 . Implement recursive function webdir() that takes as input: a URL (as a string) and\n",
    "non-negative integers depth and indent. Your function should visit every web\n",
    "page reachable from the starting URL web page in depth clicks or less, and print\n",
    "each web page's URL. As shown below, indentation, specified by indent, should\n",
    "be used to indicate the depth of a URL.\n",
    ">>>\n",
    "webdir('http://reed.cs.depaul.edu/lperkovic/csc242/test1.html'\n",
    ", 2, 0)\n",
    "http://reed.cs.depaul.edu/lperkovic/csc242/test1.html\n",
    " http://reed.cs.depaul.edu/lperkovic/csc242/test2.html\n",
    " http://reed.cs.depaul.edu/lperkovic/csc242/test4.html\n",
    " http://reed.cs.depaul.edu/lperkovic/csc242/test3.html\n",
    " http://reed.cs.depaul.edu/lperkovic/csc242/test4.html"
   ]
  },
  {
   "cell_type": "code",
   "execution_count": 18,
   "id": "a1a6b344",
   "metadata": {},
   "outputs": [
    {
     "name": "stdout",
     "output_type": "stream",
     "text": [
      "http://reed.cs.depaul.edu/lperkovic/csc242/test1.html\n"
     ]
    }
   ],
   "source": [
    "import requests\n",
    "from bs4 import BeautifulSoup\n",
    "\n",
    "def webdir(url, depth, indent):\n",
    "    if depth < 0:\n",
    "        return\n",
    "\n",
    "    # Add indentation based on depth\n",
    "    indentation = \" \" * indent\n",
    "    print(indentation + url)\n",
    "\n",
    "    # Retrieve the web page content\n",
    "    try:\n",
    "        response = requests.get(url)\n",
    "        html = response.text\n",
    "    except requests.exceptions.RequestException:\n",
    "        return\n",
    "\n",
    "    soup = BeautifulSoup(html, 'html.parser')\n",
    "    links = soup.find_all('a')\n",
    "\n",
    "    for link in links:\n",
    "        href = link.get('href')\n",
    "        if href.startswith('http'):\n",
    "            webdir(href, depth - 1, indent + 1)\n",
    "\n",
    "# Test the webdir function\n",
    "webdir('http://reed.cs.depaul.edu/lperkovic/csc242/test1.html', 2, 0)"
   ]
  },
  {
   "cell_type": "markdown",
   "id": "20be8074",
   "metadata": {},
   "source": [
    "Question 8 .Here are the SQL queries for the given database table:\n",
    "Write SQL queries on the below database table that return:\n",
    "\n",
    "a) All the temperature data.\n",
    "\n",
    "sql\n",
    "\n",
    "SELECT Temperature\n",
    "FROM table_name;\n",
    "\n",
    "b) All the cities, but without repetition.\n",
    "\n",
    "sql\n",
    "\n",
    "SELECT DISTINCT City\n",
    "FROM table_name;\n",
    "\n",
    "c) All the records for India.\n",
    "\n",
    "SELECT *\n",
    "FROM table_name\n",
    "WHERE Country = 'India';\n",
    "\n",
    "d) All the Fall records.\n",
    "\n",
    "SELECT *\n",
    "FROM table_name\n",
    "WHERE Season = 'Fall';\n",
    "\n",
    "e) The city, country, and season for which the average rainfall is between 200 and 400 millimeters.\n",
    "\n",
    "SELECT City, Country, Season\n",
    "FROM table_name\n",
    "WHERE Rainfall BETWEEN 200 AND 400;\n",
    "\n",
    "f) The city and country for which the average Fall temperature is above 20 degrees, in increasing temperature order.\n",
    "\n",
    "SELECT City, Country\n",
    "FROM table_name\n",
    "WHERE Season = 'Fall' AND Temperature > 20\n",
    "ORDER BY Temperature ASC;\n",
    "\n",
    "g) The total annual rainfall for Cairo.\n",
    "\n",
    "SELECT SUM(Rainfall) AS Total_Rainfall\n",
    "FROM table_name\n",
    "WHERE City = 'Cairo';\n",
    "\n",
    "h) The total rainfall for each season.\n",
    "\n",
    "SELECT Season, SUM(Rainfall) AS Total_Rainfall\n",
    "FROM table_name\n",
    "GROUP BY Season;"
   ]
  },
  {
   "cell_type": "markdown",
   "id": "e1caf133",
   "metadata": {},
   "source": [
    "Question 9:\n",
    "    \n",
    "Write list comprehension expressions that use list words and generate the following :\n",
    "    \n",
    "    \n",
    "a) ['THE', 'QUICK', 'BROWN', 'FOX', 'JUMPS', 'OVER', 'THE', 'LAZY', 'DOG']\n",
    "\n",
    "upper_words = [word.upper() for word in words]\n",
    "\n",
    "b) ['the', 'quick', 'brown', 'fox', 'jumps', 'over', 'the', 'lazy', 'dog']\n",
    "\n",
    "lower_words = [word.lower() for word in words]\n",
    "\n",
    "c) [3, 5, 5, 3, 5, 4, 3, 4, 3]\n",
    "\n",
    "word_lengths = [len(word) for word in words]\n",
    "\n",
    "d) [['THE', 'the', 3], ['QUICK', 'quick', 5], ['BROWN', 'brown', 5], ['FOX', 'fox', 3], ['JUMPS', 'jumps', 5], ['OVER', 'over', 4], ['THE', 'the', 3], ['LAZY', 'lazy', 4], ['DOG', 'dog', 3]]\n",
    "\n",
    "word_info = [[word.upper(), word.lower(), len(word)] for word in words]\n",
    "\n",
    "e) ['The', 'quick', 'brown', 'fox', 'jumps', 'over', 'the', 'lazy', 'dog']\n",
    "\n",
    "long_words = [word for word in words if len(word) >= 4]"
   ]
  }
 ],
 "metadata": {
  "kernelspec": {
   "display_name": "Python 3 (ipykernel)",
   "language": "python",
   "name": "python3"
  },
  "language_info": {
   "codemirror_mode": {
    "name": "ipython",
    "version": 3
   },
   "file_extension": ".py",
   "mimetype": "text/x-python",
   "name": "python",
   "nbconvert_exporter": "python",
   "pygments_lexer": "ipython3",
   "version": "3.10.9"
  }
 },
 "nbformat": 4,
 "nbformat_minor": 5
}
